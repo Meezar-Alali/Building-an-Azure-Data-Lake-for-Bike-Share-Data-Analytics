{
 "cells": [
  {
   "cell_type": "code",
   "execution_count": 0,
   "metadata": {
    "application/vnd.databricks.v1+cell": {
     "cellMetadata": {
      "byteLimit": 2048000,
      "rowLimit": 10000
     },
     "inputWidgets": {},
     "nuid": "bc8c31ba-7c3e-472d-8e3f-c4c4f239fd6f",
     "showTitle": false,
     "title": ""
    }
   },
   "outputs": [],
   "source": [
    "# Script to convert data from CSV to delta format\n",
    "# payment extraction\n",
    "payments_df = spark.read.format(\"csv\") \\\n",
    "    .option(\"inferSchema\", \"true\") \\\n",
    "    .option(\"header\", \"false\") \\\n",
    "    .option(\"sep\", \",\") \\\n",
    "    .load(\"dbfs:/FileStore/tables/payments.csv\") \\\n",
    "    .toDF(\"payment_id\",\"time_id\",\"amount\",\"rider_id\")\n"
   ]
  },
  {
   "cell_type": "code",
   "execution_count": 0,
   "metadata": {
    "application/vnd.databricks.v1+cell": {
     "cellMetadata": {
      "byteLimit": 2048000,
      "rowLimit": 10000
     },
     "inputWidgets": {},
     "nuid": "f5f88ec5-6671-4291-be2f-4facfdd5f03a",
     "showTitle": false,
     "title": ""
    }
   },
   "outputs": [
    {
     "output_type": "display_data",
     "data": {
      "text/html": [
       "<style scoped>\n  .table-result-container {\n    max-height: 300px;\n    overflow: auto;\n  }\n  table, th, td {\n    border: 1px solid black;\n    border-collapse: collapse;\n  }\n  th, td {\n    padding: 5px;\n  }\n  th {\n    text-align: left;\n  }\n</style><div class='table-result-container'><table class='table-result'><thead style='background-color: white'><tr><th>payment_id</th><th>time_id</th><th>amount</th><th>rider_id</th></tr></thead><tbody><tr><td>1</td><td>2019-05-01</td><td>9.0</td><td>1000</td></tr><tr><td>2</td><td>2019-06-01</td><td>9.0</td><td>1000</td></tr><tr><td>3</td><td>2019-07-01</td><td>9.0</td><td>1000</td></tr><tr><td>4</td><td>2019-08-01</td><td>9.0</td><td>1000</td></tr><tr><td>5</td><td>2019-09-01</td><td>9.0</td><td>1000</td></tr><tr><td>6</td><td>2019-10-01</td><td>9.0</td><td>1000</td></tr><tr><td>7</td><td>2019-11-01</td><td>9.0</td><td>1000</td></tr><tr><td>8</td><td>2019-12-01</td><td>9.0</td><td>1000</td></tr><tr><td>9</td><td>2020-01-01</td><td>9.0</td><td>1000</td></tr><tr><td>10</td><td>2020-02-01</td><td>9.0</td><td>1000</td></tr></tbody></table></div>"
      ]
     },
     "metadata": {
      "application/vnd.databricks.v1+output": {
       "addedWidgets": {},
       "aggData": [],
       "aggError": "",
       "aggOverflow": false,
       "aggSchema": [],
       "aggSeriesLimitReached": false,
       "aggType": "",
       "arguments": {},
       "columnCustomDisplayInfos": {},
       "data": [
        [
         1,
         "2019-05-01",
         9.0,
         1000
        ],
        [
         2,
         "2019-06-01",
         9.0,
         1000
        ],
        [
         3,
         "2019-07-01",
         9.0,
         1000
        ],
        [
         4,
         "2019-08-01",
         9.0,
         1000
        ],
        [
         5,
         "2019-09-01",
         9.0,
         1000
        ],
        [
         6,
         "2019-10-01",
         9.0,
         1000
        ],
        [
         7,
         "2019-11-01",
         9.0,
         1000
        ],
        [
         8,
         "2019-12-01",
         9.0,
         1000
        ],
        [
         9,
         "2020-01-01",
         9.0,
         1000
        ],
        [
         10,
         "2020-02-01",
         9.0,
         1000
        ]
       ],
       "datasetInfos": [],
       "dbfsResultPath": null,
       "isJsonSchema": true,
       "metadata": {},
       "overflow": false,
       "plotOptions": {
        "customPlotOptions": {},
        "displayType": "table",
        "pivotAggregation": null,
        "pivotColumns": null,
        "xColumns": null,
        "yColumns": null
       },
       "removedWidgets": [],
       "schema": [
        {
         "metadata": "{}",
         "name": "payment_id",
         "type": "\"integer\""
        },
        {
         "metadata": "{\"__detected_date_formats\":\"yyyy-M-d\"}",
         "name": "time_id",
         "type": "\"date\""
        },
        {
         "metadata": "{}",
         "name": "amount",
         "type": "\"double\""
        },
        {
         "metadata": "{}",
         "name": "rider_id",
         "type": "\"integer\""
        }
       ],
       "type": "table"
      }
     },
     "output_type": "display_data"
    }
   ],
   "source": [
    "# Check the schema and data\n",
    "payments_df.printSchema\n",
    "display(payments_df.limit(10))"
   ]
  },
  {
   "cell_type": "code",
   "execution_count": 0,
   "metadata": {
    "application/vnd.databricks.v1+cell": {
     "cellMetadata": {
      "byteLimit": 2048000,
      "rowLimit": 10000
     },
     "inputWidgets": {},
     "nuid": "55d3d6bb-4d62-4bd5-9123-241040489339",
     "showTitle": false,
     "title": ""
    }
   },
   "outputs": [],
   "source": [
    "# Write data to delta location\n",
    "payments_df.write.format(\"delta\") \\\n",
    "    .mode(\"overwrite\") \\\n",
    "    .save(\"/delta/payments\")"
   ]
  },
  {
   "cell_type": "code",
   "execution_count": 0,
   "metadata": {
    "application/vnd.databricks.v1+cell": {
     "cellMetadata": {
      "byteLimit": 2048000,
      "rowLimit": 10000
     },
     "inputWidgets": {},
     "nuid": "9bb83662-b098-4a16-a759-7e53a7d7424c",
     "showTitle": false,
     "title": ""
    }
   },
   "outputs": [],
   "source": [
    "# riders extraction\n",
    "riders_df = spark.read.format(\"csv\") \\\n",
    "    .option(\"inferSchema\", \"true\") \\\n",
    "    .option(\"header\", \"false\") \\\n",
    "    .option(\"sep\", \",\") \\\n",
    "    .load(\"dbfs:/FileStore/tables/riders.csv\") \\\n",
    "    .toDF(\"rider_id\", \"first_name\", \"last_name\", \"address\", \"birthday\", \"account_start_date\", \"account_end_date\", \"is_member\")"
   ]
  },
  {
   "cell_type": "code",
   "execution_count": 0,
   "metadata": {
    "application/vnd.databricks.v1+cell": {
     "cellMetadata": {
      "byteLimit": 2048000,
      "rowLimit": 10000
     },
     "inputWidgets": {},
     "nuid": "dc1de221-27f3-47cd-bc9e-54cf3d36120a",
     "showTitle": false,
     "title": ""
    }
   },
   "outputs": [
    {
     "output_type": "display_data",
     "data": {
      "text/html": [
       "<style scoped>\n  .table-result-container {\n    max-height: 300px;\n    overflow: auto;\n  }\n  table, th, td {\n    border: 1px solid black;\n    border-collapse: collapse;\n  }\n  th, td {\n    padding: 5px;\n  }\n  th {\n    text-align: left;\n  }\n</style><div class='table-result-container'><table class='table-result'><thead style='background-color: white'><tr><th>rider_id</th><th>first_name</th><th>last_name</th><th>address</th><th>birthday</th><th>account_start_date</th><th>account_end_date</th><th>is_member</th></tr></thead><tbody><tr><td>1000</td><td>Diana</td><td>Clark</td><td>1200 Alyssa Squares</td><td>1989-02-13</td><td>2019-04-23</td><td>null</td><td>true</td></tr><tr><td>1001</td><td>Jennifer</td><td>Smith</td><td>397 Diana Ferry</td><td>1976-08-10</td><td>2019-11-01</td><td>2020-09-01</td><td>true</td></tr><tr><td>1002</td><td>Karen</td><td>Smith</td><td>644 Brittany Row Apt. 097</td><td>1998-08-10</td><td>2022-02-04</td><td>null</td><td>true</td></tr><tr><td>1003</td><td>Bryan</td><td>Roberts</td><td>996 Dickerson Turnpike</td><td>1999-03-29</td><td>2019-08-26</td><td>null</td><td>false</td></tr><tr><td>1004</td><td>Jesse</td><td>Middleton</td><td>7009 Nathan Expressway</td><td>1969-04-11</td><td>2019-09-14</td><td>null</td><td>true</td></tr><tr><td>1005</td><td>Christine</td><td>Rodriguez</td><td>224 Washington Mills Apt. 467</td><td>1974-08-27</td><td>2020-03-24</td><td>null</td><td>false</td></tr><tr><td>1006</td><td>Alicia</td><td>Taylor</td><td>1137 Angela Locks</td><td>2004-01-30</td><td>2020-11-27</td><td>2021-12-01</td><td>true</td></tr><tr><td>1007</td><td>Benjamin</td><td>Fernandez</td><td>979 Phillips Ways</td><td>1988-01-11</td><td>2016-12-11</td><td>null</td><td>false</td></tr><tr><td>1008</td><td>John</td><td>Crawford</td><td>7691 Evans Court</td><td>1987-02-21</td><td>2021-03-28</td><td>2021-07-01</td><td>true</td></tr><tr><td>1009</td><td>Victoria</td><td>Ritter</td><td>9922 Jim Crest Apt. 319</td><td>1981-02-07</td><td>2020-06-12</td><td>2021-11-01</td><td>true</td></tr></tbody></table></div>"
      ]
     },
     "metadata": {
      "application/vnd.databricks.v1+output": {
       "addedWidgets": {},
       "aggData": [],
       "aggError": "",
       "aggOverflow": false,
       "aggSchema": [],
       "aggSeriesLimitReached": false,
       "aggType": "",
       "arguments": {},
       "columnCustomDisplayInfos": {},
       "data": [
        [
         1000,
         "Diana",
         "Clark",
         "1200 Alyssa Squares",
         "1989-02-13",
         "2019-04-23",
         null,
         true
        ],
        [
         1001,
         "Jennifer",
         "Smith",
         "397 Diana Ferry",
         "1976-08-10",
         "2019-11-01",
         "2020-09-01",
         true
        ],
        [
         1002,
         "Karen",
         "Smith",
         "644 Brittany Row Apt. 097",
         "1998-08-10",
         "2022-02-04",
         null,
         true
        ],
        [
         1003,
         "Bryan",
         "Roberts",
         "996 Dickerson Turnpike",
         "1999-03-29",
         "2019-08-26",
         null,
         false
        ],
        [
         1004,
         "Jesse",
         "Middleton",
         "7009 Nathan Expressway",
         "1969-04-11",
         "2019-09-14",
         null,
         true
        ],
        [
         1005,
         "Christine",
         "Rodriguez",
         "224 Washington Mills Apt. 467",
         "1974-08-27",
         "2020-03-24",
         null,
         false
        ],
        [
         1006,
         "Alicia",
         "Taylor",
         "1137 Angela Locks",
         "2004-01-30",
         "2020-11-27",
         "2021-12-01",
         true
        ],
        [
         1007,
         "Benjamin",
         "Fernandez",
         "979 Phillips Ways",
         "1988-01-11",
         "2016-12-11",
         null,
         false
        ],
        [
         1008,
         "John",
         "Crawford",
         "7691 Evans Court",
         "1987-02-21",
         "2021-03-28",
         "2021-07-01",
         true
        ],
        [
         1009,
         "Victoria",
         "Ritter",
         "9922 Jim Crest Apt. 319",
         "1981-02-07",
         "2020-06-12",
         "2021-11-01",
         true
        ]
       ],
       "datasetInfos": [],
       "dbfsResultPath": null,
       "isJsonSchema": true,
       "metadata": {},
       "overflow": false,
       "plotOptions": {
        "customPlotOptions": {},
        "displayType": "table",
        "pivotAggregation": null,
        "pivotColumns": null,
        "xColumns": null,
        "yColumns": null
       },
       "removedWidgets": [],
       "schema": [
        {
         "metadata": "{}",
         "name": "rider_id",
         "type": "\"integer\""
        },
        {
         "metadata": "{}",
         "name": "first_name",
         "type": "\"string\""
        },
        {
         "metadata": "{}",
         "name": "last_name",
         "type": "\"string\""
        },
        {
         "metadata": "{}",
         "name": "address",
         "type": "\"string\""
        },
        {
         "metadata": "{\"__detected_date_formats\":\"yyyy-M-d\"}",
         "name": "birthday",
         "type": "\"date\""
        },
        {
         "metadata": "{\"__detected_date_formats\":\"yyyy-M-d\"}",
         "name": "account_start_date",
         "type": "\"date\""
        },
        {
         "metadata": "{\"__detected_date_formats\":\"yyyy-M-d\"}",
         "name": "account_end_date",
         "type": "\"date\""
        },
        {
         "metadata": "{}",
         "name": "is_member",
         "type": "\"boolean\""
        }
       ],
       "type": "table"
      }
     },
     "output_type": "display_data"
    },
    {
     "output_type": "stream",
     "name": "stdout",
     "output_type": "stream",
     "text": [
      "Out[6]: <bound method DataFrame.printSchema of DataFrame[rider_id: int, first_name: string, last_name: string, address: string, birthday: date, account_start_date: date, account_end_date: date, is_member: boolean]>"
     ]
    }
   ],
   "source": [
    "# Check the schema and data\n",
    "display(riders_df.limit(10))\n",
    "riders_df.printSchema"
   ]
  },
  {
   "cell_type": "code",
   "execution_count": 0,
   "metadata": {
    "application/vnd.databricks.v1+cell": {
     "cellMetadata": {
      "byteLimit": 2048000,
      "rowLimit": 10000
     },
     "inputWidgets": {},
     "nuid": "db0c108b-8be7-40cc-8e6e-2e2ecec2f5be",
     "showTitle": false,
     "title": ""
    }
   },
   "outputs": [],
   "source": [
    "# Write data to delta location\n",
    "riders_df.write.format(\"delta\") \\\n",
    "    .mode(\"overwrite\") \\\n",
    "    .save(\"/delta/riders\")"
   ]
  },
  {
   "cell_type": "code",
   "execution_count": 0,
   "metadata": {
    "application/vnd.databricks.v1+cell": {
     "cellMetadata": {
      "byteLimit": 2048000,
      "rowLimit": 10000
     },
     "inputWidgets": {},
     "nuid": "4efbba4c-12ce-4211-b39b-46b6adc8e339",
     "showTitle": false,
     "title": ""
    }
   },
   "outputs": [],
   "source": [
    "# stations extraction\n",
    "stations_df = spark.read.format(\"csv\") \\\n",
    "    .option(\"inferSchema\", \"true\") \\\n",
    "    .option(\"header\", \"false\") \\\n",
    "    .option(\"sep\", \",\") \\\n",
    "    .load(\"dbfs:/FileStore/tables/stations.csv\") \\\n",
    "    .toDF(\"station_id\", \"name\", \"latitude\", \"longitude\")"
   ]
  },
  {
   "cell_type": "code",
   "execution_count": 0,
   "metadata": {
    "application/vnd.databricks.v1+cell": {
     "cellMetadata": {
      "byteLimit": 2048000,
      "rowLimit": 10000
     },
     "inputWidgets": {},
     "nuid": "315735cd-b162-4755-a280-3382de02bcc7",
     "showTitle": false,
     "title": ""
    }
   },
   "outputs": [
    {
     "output_type": "display_data",
     "data": {
      "text/html": [
       "<style scoped>\n  .table-result-container {\n    max-height: 300px;\n    overflow: auto;\n  }\n  table, th, td {\n    border: 1px solid black;\n    border-collapse: collapse;\n  }\n  th, td {\n    padding: 5px;\n  }\n  th {\n    text-align: left;\n  }\n</style><div class='table-result-container'><table class='table-result'><thead style='background-color: white'><tr><th>station_id</th><th>name</th><th>latitude</th><th>longitude</th></tr></thead><tbody><tr><td>525</td><td>Glenwood Ave & Touhy Ave</td><td>42.012701</td><td>-87.66605799999999</td></tr><tr><td>KA1503000012</td><td>Clark St & Lake St</td><td>41.88579466666667</td><td>-87.63110066666668</td></tr><tr><td>637</td><td>Wood St & Chicago Ave</td><td>41.895634</td><td>-87.672069</td></tr><tr><td>13216</td><td>State St & 33rd St</td><td>41.8347335</td><td>-87.6258275</td></tr><tr><td>18003</td><td>Fairbanks St & Superior St</td><td>41.89580766666667</td><td>-87.62025316666669</td></tr><tr><td>KP1705001026</td><td>LaSalle Dr & Huron St</td><td>41.894877</td><td>-87.632326</td></tr><tr><td>13253</td><td>Lincoln Ave & Waveland Ave</td><td>41.948797</td><td>-87.675278</td></tr><tr><td>KA1503000044</td><td>Rush St & Hubbard St</td><td>41.890173</td><td>-87.62618499999999</td></tr><tr><td>KA1504000140</td><td>Winchester Ave & Elston Ave</td><td>41.92403733333333</td><td>-87.67641483333334</td></tr><tr><td>TA1305000032</td><td>Clinton St & Madison St</td><td>41.882242</td><td>-87.64106600000001</td></tr></tbody></table></div>"
      ]
     },
     "metadata": {
      "application/vnd.databricks.v1+output": {
       "addedWidgets": {},
       "aggData": [],
       "aggError": "",
       "aggOverflow": false,
       "aggSchema": [],
       "aggSeriesLimitReached": false,
       "aggType": "",
       "arguments": {},
       "columnCustomDisplayInfos": {},
       "data": [
        [
         "525",
         "Glenwood Ave & Touhy Ave",
         42.012701,
         -87.66605799999999
        ],
        [
         "KA1503000012",
         "Clark St & Lake St",
         41.88579466666667,
         -87.63110066666668
        ],
        [
         "637",
         "Wood St & Chicago Ave",
         41.895634,
         -87.672069
        ],
        [
         "13216",
         "State St & 33rd St",
         41.8347335,
         -87.6258275
        ],
        [
         "18003",
         "Fairbanks St & Superior St",
         41.89580766666667,
         -87.62025316666669
        ],
        [
         "KP1705001026",
         "LaSalle Dr & Huron St",
         41.894877,
         -87.632326
        ],
        [
         "13253",
         "Lincoln Ave & Waveland Ave",
         41.948797,
         -87.675278
        ],
        [
         "KA1503000044",
         "Rush St & Hubbard St",
         41.890173,
         -87.62618499999999
        ],
        [
         "KA1504000140",
         "Winchester Ave & Elston Ave",
         41.92403733333333,
         -87.67641483333334
        ],
        [
         "TA1305000032",
         "Clinton St & Madison St",
         41.882242,
         -87.64106600000001
        ]
       ],
       "datasetInfos": [],
       "dbfsResultPath": null,
       "isJsonSchema": true,
       "metadata": {},
       "overflow": false,
       "plotOptions": {
        "customPlotOptions": {},
        "displayType": "table",
        "pivotAggregation": null,
        "pivotColumns": null,
        "xColumns": null,
        "yColumns": null
       },
       "removedWidgets": [],
       "schema": [
        {
         "metadata": "{}",
         "name": "station_id",
         "type": "\"string\""
        },
        {
         "metadata": "{}",
         "name": "name",
         "type": "\"string\""
        },
        {
         "metadata": "{}",
         "name": "latitude",
         "type": "\"double\""
        },
        {
         "metadata": "{}",
         "name": "longitude",
         "type": "\"double\""
        }
       ],
       "type": "table"
      }
     },
     "output_type": "display_data"
    },
    {
     "output_type": "stream",
     "name": "stdout",
     "output_type": "stream",
     "text": [
      "Out[9]: <bound method DataFrame.printSchema of DataFrame[station_id: string, name: string, latitude: double, longitude: double]>"
     ]
    }
   ],
   "source": [
    "# Check the schema and data\n",
    "display(stations_df.limit(10))\n",
    "stations_df.printSchema"
   ]
  },
  {
   "cell_type": "code",
   "execution_count": 0,
   "metadata": {
    "application/vnd.databricks.v1+cell": {
     "cellMetadata": {
      "byteLimit": 2048000,
      "rowLimit": 10000
     },
     "inputWidgets": {},
     "nuid": "d2afc389-122b-48b5-917c-4fa469fac0f3",
     "showTitle": false,
     "title": ""
    }
   },
   "outputs": [],
   "source": [
    "# Write data to delta location\n",
    "stations_df.write.format(\"delta\") \\\n",
    "    .mode(\"overwrite\") \\\n",
    "    .save(\"/delta/stations\")"
   ]
  },
  {
   "cell_type": "code",
   "execution_count": 0,
   "metadata": {
    "application/vnd.databricks.v1+cell": {
     "cellMetadata": {
      "byteLimit": 2048000,
      "rowLimit": 10000
     },
     "inputWidgets": {},
     "nuid": "310c7985-3999-4f12-ac16-945b80c9d734",
     "showTitle": false,
     "title": ""
    }
   },
   "outputs": [],
   "source": [
    "# trips extraction\n",
    "trips_df = spark.read.format(\"csv\") \\\n",
    "    .option(\"inferSchema\", \"true\") \\\n",
    "    .option(\"header\", \"false\") \\\n",
    "    .option(\"sep\", \",\") \\\n",
    "    .load(\"dbfs:/FileStore/tables/trips.csv\") \\\n",
    "    .toDF(\"trip_id\", \"rideable_type\", \"start_at\", \"ended_at\", \"start_station_id\", \"end_station_id\", \"rider_id\")\n"
   ]
  },
  {
   "cell_type": "code",
   "execution_count": 0,
   "metadata": {
    "application/vnd.databricks.v1+cell": {
     "cellMetadata": {
      "byteLimit": 2048000,
      "rowLimit": 10000
     },
     "inputWidgets": {},
     "nuid": "62afbbd3-6f89-4485-b388-7f02484aa1e5",
     "showTitle": false,
     "title": ""
    }
   },
   "outputs": [
    {
     "output_type": "display_data",
     "data": {
      "text/html": [
       "<style scoped>\n  .table-result-container {\n    max-height: 300px;\n    overflow: auto;\n  }\n  table, th, td {\n    border: 1px solid black;\n    border-collapse: collapse;\n  }\n  th, td {\n    padding: 5px;\n  }\n  th {\n    text-align: left;\n  }\n</style><div class='table-result-container'><table class='table-result'><thead style='background-color: white'><tr><th>trip_id</th><th>rideable_type</th><th>start_at</th><th>ended_at</th><th>start_station_id</th><th>end_station_id</th><th>rider_id</th></tr></thead><tbody><tr><td>89E7AA6C29227EFF</td><td>classic_bike</td><td>2021-02-12T16:14:56.000+0000</td><td>2021-02-12T16:21:43.000+0000</td><td>525</td><td>660</td><td>71934</td></tr><tr><td>0FEFDE2603568365</td><td>classic_bike</td><td>2021-02-14T17:52:38.000+0000</td><td>2021-02-14T18:12:09.000+0000</td><td>525</td><td>16806</td><td>47854</td></tr><tr><td>E6159D746B2DBB91</td><td>electric_bike</td><td>2021-02-09T19:10:18.000+0000</td><td>2021-02-09T19:19:10.000+0000</td><td>KA1503000012</td><td>TA1305000029</td><td>70870</td></tr><tr><td>B32D3199F1C2E75B</td><td>classic_bike</td><td>2021-02-02T17:49:41.000+0000</td><td>2021-02-02T17:54:06.000+0000</td><td>637</td><td>TA1305000034</td><td>58974</td></tr><tr><td>83E463F23575F4BF</td><td>electric_bike</td><td>2021-02-23T15:07:23.000+0000</td><td>2021-02-23T15:22:37.000+0000</td><td>13216</td><td>TA1309000055</td><td>39608</td></tr><tr><td>BDAA7E3494E8D545</td><td>electric_bike</td><td>2021-02-24T15:43:33.000+0000</td><td>2021-02-24T15:49:05.000+0000</td><td>18003</td><td>KP1705001026</td><td>36267</td></tr><tr><td>A772742351171257</td><td>classic_bike</td><td>2021-02-01T17:47:42.000+0000</td><td>2021-02-01T17:48:33.000+0000</td><td>KP1705001026</td><td>KP1705001026</td><td>50104</td></tr><tr><td>295476889D9B79F8</td><td>classic_bike</td><td>2021-02-11T18:33:53.000+0000</td><td>2021-02-11T18:35:09.000+0000</td><td>18003</td><td>18003</td><td>19618</td></tr><tr><td>362087194BA4CC9A</td><td>classic_bike</td><td>2021-02-27T15:13:39.000+0000</td><td>2021-02-27T15:36:36.000+0000</td><td>KP1705001026</td><td>KP1705001026</td><td>16732</td></tr><tr><td>21630F715038CCB0</td><td>classic_bike</td><td>2021-02-20T08:59:42.000+0000</td><td>2021-02-20T09:17:04.000+0000</td><td>KP1705001026</td><td>KP1705001026</td><td>57068</td></tr></tbody></table></div>"
      ]
     },
     "metadata": {
      "application/vnd.databricks.v1+output": {
       "addedWidgets": {},
       "aggData": [],
       "aggError": "",
       "aggOverflow": false,
       "aggSchema": [],
       "aggSeriesLimitReached": false,
       "aggType": "",
       "arguments": {},
       "columnCustomDisplayInfos": {},
       "data": [
        [
         "89E7AA6C29227EFF",
         "classic_bike",
         "2021-02-12T16:14:56.000+0000",
         "2021-02-12T16:21:43.000+0000",
         "525",
         "660",
         71934
        ],
        [
         "0FEFDE2603568365",
         "classic_bike",
         "2021-02-14T17:52:38.000+0000",
         "2021-02-14T18:12:09.000+0000",
         "525",
         "16806",
         47854
        ],
        [
         "E6159D746B2DBB91",
         "electric_bike",
         "2021-02-09T19:10:18.000+0000",
         "2021-02-09T19:19:10.000+0000",
         "KA1503000012",
         "TA1305000029",
         70870
        ],
        [
         "B32D3199F1C2E75B",
         "classic_bike",
         "2021-02-02T17:49:41.000+0000",
         "2021-02-02T17:54:06.000+0000",
         "637",
         "TA1305000034",
         58974
        ],
        [
         "83E463F23575F4BF",
         "electric_bike",
         "2021-02-23T15:07:23.000+0000",
         "2021-02-23T15:22:37.000+0000",
         "13216",
         "TA1309000055",
         39608
        ],
        [
         "BDAA7E3494E8D545",
         "electric_bike",
         "2021-02-24T15:43:33.000+0000",
         "2021-02-24T15:49:05.000+0000",
         "18003",
         "KP1705001026",
         36267
        ],
        [
         "A772742351171257",
         "classic_bike",
         "2021-02-01T17:47:42.000+0000",
         "2021-02-01T17:48:33.000+0000",
         "KP1705001026",
         "KP1705001026",
         50104
        ],
        [
         "295476889D9B79F8",
         "classic_bike",
         "2021-02-11T18:33:53.000+0000",
         "2021-02-11T18:35:09.000+0000",
         "18003",
         "18003",
         19618
        ],
        [
         "362087194BA4CC9A",
         "classic_bike",
         "2021-02-27T15:13:39.000+0000",
         "2021-02-27T15:36:36.000+0000",
         "KP1705001026",
         "KP1705001026",
         16732
        ],
        [
         "21630F715038CCB0",
         "classic_bike",
         "2021-02-20T08:59:42.000+0000",
         "2021-02-20T09:17:04.000+0000",
         "KP1705001026",
         "KP1705001026",
         57068
        ]
       ],
       "datasetInfos": [],
       "dbfsResultPath": null,
       "isJsonSchema": true,
       "metadata": {},
       "overflow": false,
       "plotOptions": {
        "customPlotOptions": {},
        "displayType": "table",
        "pivotAggregation": null,
        "pivotColumns": null,
        "xColumns": null,
        "yColumns": null
       },
       "removedWidgets": [],
       "schema": [
        {
         "metadata": "{}",
         "name": "trip_id",
         "type": "\"string\""
        },
        {
         "metadata": "{}",
         "name": "rideable_type",
         "type": "\"string\""
        },
        {
         "metadata": "{}",
         "name": "start_at",
         "type": "\"timestamp\""
        },
        {
         "metadata": "{}",
         "name": "ended_at",
         "type": "\"timestamp\""
        },
        {
         "metadata": "{}",
         "name": "start_station_id",
         "type": "\"string\""
        },
        {
         "metadata": "{}",
         "name": "end_station_id",
         "type": "\"string\""
        },
        {
         "metadata": "{}",
         "name": "rider_id",
         "type": "\"integer\""
        }
       ],
       "type": "table"
      }
     },
     "output_type": "display_data"
    },
    {
     "output_type": "stream",
     "name": "stdout",
     "output_type": "stream",
     "text": [
      "Out[12]: <bound method DataFrame.printSchema of DataFrame[trip_id: string, rideable_type: string, start_at: timestamp, ended_at: timestamp, start_station_id: string, end_station_id: string, rider_id: int]>"
     ]
    }
   ],
   "source": [
    "# Check the schema and data\n",
    "display(trips_df.limit(10))\n",
    "trips_df.printSchema"
   ]
  },
  {
   "cell_type": "code",
   "execution_count": 0,
   "metadata": {
    "application/vnd.databricks.v1+cell": {
     "cellMetadata": {
      "byteLimit": 2048000,
      "rowLimit": 10000
     },
     "inputWidgets": {},
     "nuid": "088f8dda-0d1b-4eda-8ccc-1a86dde91429",
     "showTitle": false,
     "title": ""
    }
   },
   "outputs": [],
   "source": [
    "# Write data to delta location\n",
    "trips_df.write.format(\"delta\") \\\n",
    "    .mode(\"overwrite\") \\\n",
    "    .save(\"/delta/trips\")"
   ]
  }
 ],
 "metadata": {
  "application/vnd.databricks.v1+notebook": {
   "dashboards": [],
   "language": "python",
   "notebookMetadata": {
    "pythonIndentUnit": 4
   },
   "notebookName": "Extract_Data",
   "notebookOrigID": 1166809726859035,
   "widgets": {}
  }
 },
 "nbformat": 4,
 "nbformat_minor": 0
}
